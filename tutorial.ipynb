{
 "cells": [
  {
   "cell_type": "markdown",
   "metadata": {},
   "source": [
    "# Python Doesn't Byte: by Jared Frazier and Marie McCord\n",
    "## What is Python?\n",
    "Python is a high-level, general purpose programming language. \n",
    "\n",
    "... What does this mean ...\n",
    "## Why Learn Python?\n",
    "You can make cool stuff with it, and in fact companies like Netflix, Google, etc. do this...\n",
    "\n",
    "... cool stuff ...\n",
    "\n",
    "## Python Syntax\n",
    "Syntax: ... define ..."
   ]
  },
  {
   "cell_type": "code",
   "execution_count": 1,
   "metadata": {},
   "outputs": [
    {
     "name": "stdout",
     "output_type": "stream",
     "text": [
      "Hello world!\n"
     ]
    }
   ],
   "source": [
    "# The simplest program\n",
    "print(\"Hello world!\")"
   ]
  },
  {
   "cell_type": "markdown",
   "metadata": {},
   "source": [
    "## Resources"
   ]
  },
  {
   "cell_type": "markdown",
   "metadata": {},
   "source": []
  }
 ],
 "metadata": {
  "interpreter": {
   "hash": "d34b5cd599a8dc40c04bb69cc0b7a38bbc91ccde431e5d8f8c3f421f7e4168f6"
  },
  "kernelspec": {
   "display_name": "Python 3.7.4 ('base')",
   "language": "python",
   "name": "python3"
  },
  "language_info": {
   "codemirror_mode": {
    "name": "ipython",
    "version": 3
   },
   "file_extension": ".py",
   "mimetype": "text/x-python",
   "name": "python",
   "nbconvert_exporter": "python",
   "pygments_lexer": "ipython3",
   "version": "3.7.4"
  },
  "orig_nbformat": 4
 },
 "nbformat": 4,
 "nbformat_minor": 2
}
