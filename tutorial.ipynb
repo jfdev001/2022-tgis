{
 "cells": [
  {
   "cell_type": "markdown",
   "metadata": {},
   "source": [
    "# Python Doesn't Byte: by Jared Frazier and Marie McCord\n",
    "## What is Python?\n",
    "Python is a high-level, general purpose programming language. \n",
    "\n",
    "... What does this mean ...\n",
    "## Why Learn Python?\n",
    "You can make cool stuff with it, and in fact companies like Netflix, Google, etc. do this...\n",
    "\n",
    "... cool stuff ...\n",
    "\n",
    "## Python Syntax\n",
    "Syntax: ... define ...\n",
    "\n",
    "### Hello world!"
   ]
  },
  {
   "cell_type": "code",
   "execution_count": 1,
   "metadata": {},
   "outputs": [
    {
     "name": "stdout",
     "output_type": "stream",
     "text": [
      "Hello world!\n"
     ]
    }
   ],
   "source": [
    "# The simplest program\n",
    "print(\"Hello world!\")"
   ]
  },
  {
   "cell_type": "code",
   "execution_count": null,
   "metadata": {},
   "outputs": [],
   "source": [
    "# What's different about this code and the previous code?\n",
    "# Hint: Look very closely at the beginning of the first word and end of \n",
    "# the last word!\n",
    "print('Hello world!')"
   ]
  },
  {
   "cell_type": "code",
   "execution_count": null,
   "metadata": {},
   "outputs": [],
   "source": [
    "# Try changing what the above code prints!\n",
    "# Hint: Be careful not to delete the quotation marks \"\"\n",
    "print(\"Hello world!\")"
   ]
  },
  {
   "cell_type": "markdown",
   "metadata": {},
   "source": [
    "What does the above code actually *do*?\n",
    "\n",
    "It uses a *built-in function* called `print` that takes the `\"Hello world!\"` *string argument* and displays it!\n",
    "\n",
    "What is a *string* and what is an *argument*? Read-on to find out :-)"
   ]
  },
  {
   "cell_type": "markdown",
   "metadata": {},
   "source": [
    "### Variables and Data Types\n",
    "Variables: Store data so that data can be accessed later in your program.\n",
    "\n",
    "Data Types: Information about the data that affects *what* you can do with it."
   ]
  },
  {
   "cell_type": "code",
   "execution_count": 9,
   "metadata": {},
   "outputs": [],
   "source": [
    "# Definition of a variables that will store data of type `string`\n",
    "favorite_icecream = \"vanilla\"\n",
    "instructor_one = 'Jared Frazier'\n",
    "instructor_two = 'Marie McCord'\n",
    "\n",
    "# Definition of a variable that will store data of type `int` (for integer)\n",
    "# Note: There is no decimal in this variable definition\n",
    "num_cats_owned = 1\n",
    "\n",
    "# Definition of a variable that will store data of type `float`\n",
    "# Note: There is a decimal in this variable!\n",
    "pi = 3.14159\n",
    "\n",
    "# Definition of a variable that will store data IN a `list`\n",
    "# Note: The items in the list are called `elements`\n",
    "# and the location of those `elements` in the list is called the `indices`\n",
    "groceries = [\"apple\", \"cabbage\", \"milk\"]\n",
    "\n",
    "# Definition of a variable that will store `key` and `value` pairs\n",
    "# in a `dict` (dictionary)\n",
    "book_info = {\n",
    "    \"The Old Man and the Sea\": 1952, \n",
    "    \"Gone with the Wind\": 1936}"
   ]
  },
  {
   "cell_type": "markdown",
   "metadata": {},
   "source": [
    "* Should always have descriptive names... `num_icecream_cones` is better\n",
    "than `x`"
   ]
  },
  {
   "cell_type": "markdown",
   "metadata": {},
   "source": [
    "### User Input"
   ]
  },
  {
   "cell_type": "code",
   "execution_count": 7,
   "metadata": {},
   "outputs": [
    {
     "name": "stdout",
     "output_type": "stream",
     "text": [
      "favorite_color\n"
     ]
    }
   ],
   "source": [
    "# Strings and getting user input\n",
    "# Note: The return value of \n",
    "favorite_color = input(\"What's your favorite color? \")\n",
    "print(favorite_color)"
   ]
  },
  {
   "cell_type": "code",
   "execution_count": null,
   "metadata": {},
   "outputs": [],
   "source": []
  },
  {
   "cell_type": "markdown",
   "metadata": {},
   "source": [
    "## Resources"
   ]
  },
  {
   "cell_type": "markdown",
   "metadata": {},
   "source": [
    "* [Visual Studio Code and Python](https://code.visualstudio.com/docs/languages/python)\n",
    "* [Official Python Tutorial](https://docs.python.org/3/tutorial/index.html)\n",
    "* [Official Python Documentation Table of Contents](https://docs.python.org/3/contents.html)\n"
   ]
  },
  {
   "cell_type": "markdown",
   "metadata": {},
   "source": []
  }
 ],
 "metadata": {
  "interpreter": {
   "hash": "d34b5cd599a8dc40c04bb69cc0b7a38bbc91ccde431e5d8f8c3f421f7e4168f6"
  },
  "kernelspec": {
   "display_name": "Python 3.7.4 ('base')",
   "language": "python",
   "name": "python3"
  },
  "language_info": {
   "codemirror_mode": {
    "name": "ipython",
    "version": 3
   },
   "file_extension": ".py",
   "mimetype": "text/x-python",
   "name": "python",
   "nbconvert_exporter": "python",
   "pygments_lexer": "ipython3",
   "version": "3.7.4"
  },
  "orig_nbformat": 4
 },
 "nbformat": 4,
 "nbformat_minor": 2
}
