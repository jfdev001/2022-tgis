{
 "cells": [
  {
   "cell_type": "markdown",
   "metadata": {},
   "source": [
    "# Python Doesn't Byte: by Jared Frazier and Marie McCord\n",
    "## What is Python?\n",
    "Python is a high-level, general purpose programming language. This is just\n",
    "fancy talk for \"Python is a *tool* that you can use to tell a computer how\n",
    "to perform a task. \"High level\" just means that you don't have to learn the \n",
    "language of the machine, which is creatively called *machine language*, in \n",
    "order to tell a computer how to do cool things.\n",
    "\n",
    "## Why Learn Python?\n",
    "You can make cool stuff like websites, games, chatbots, and more with it. \n",
    "In fact organizations like Netflix, Google, \n",
    "NASA, use Python extensively. Here are some examples.\n",
    "\n",
    "1. Netflix: `Open Connect` -- Uses Python to deliver content to \n",
    "its viewers. When you watch a movie on Netflix, now you know the way that movie\n",
    "is delivered to you with Python.\n",
    "2. Google: `YouTube Recommendations ` -- Uses Python to make video\n",
    "recommendations to different users. So if you watch a video on the mysteries\n",
    "of black holes in outer space, and then you get recommended another video\n",
    "that is similar to that, know that it is Python at work!\n",
    "3. NASA: `Astrobee: free-flying robots` -- Uses Python to control a robot\n",
    "on the international Space Station (ISS). While you may not be on the ISS right \n",
    "now, maybe one day you will be and you can interact with these useful, cube-shaped\n",
    "robots!\n",
    "\n",
    "What you'll find is that these examples use Python in addition to other languages\n",
    "like C, C++, JavaScript, etc., but you have to start somewhere before you can\n",
    "learn more languages, so Python is where we will begin!\n",
    "\n",
    "## Python Syntax\n",
    "**Syntax:** The rules that define the combination of symbols that are considered\n",
    "valid statements or expressions in that language. English, Spanish, Cantonese... \n",
    "these are all natural languages, but you know for example in English that the \n",
    "sentence `He threw the ball.` is valid but `The ball threw he.` is not valid.\n",
    "Similarly, programming languages have valid sentences, which are called *statements*,\n",
    "and each programming language has different syntax. Fortunately, once you learn\n",
    "one programming language, the syntax of the other languages is not as varied as\n",
    "in natural languages. You could learn Python over the next few months, then if you\n",
    "were to look at another language, it would not be as difficult to learn.\n",
    "\n",
    "### The First Code You'll Write"
   ]
  },
  {
   "cell_type": "code",
   "execution_count": null,
   "metadata": {},
   "outputs": [],
   "source": [
    "# The simplest program\n",
    "print(\"Hello world!\")"
   ]
  },
  {
   "cell_type": "code",
   "execution_count": null,
   "metadata": {},
   "outputs": [],
   "source": [
    "# What's different about this code and the previous code?\n",
    "# Hint: Look very closely at the beginning of the first word and end of \n",
    "# the last word!\n",
    "print('Hello world!')"
   ]
  },
  {
   "cell_type": "code",
   "execution_count": null,
   "metadata": {},
   "outputs": [],
   "source": [
    "# You try: Changing what the above code prints!\n",
    "# Hint: Be careful not to delete the quotation marks \"\"\n",
    "print(\"Hello world!\")"
   ]
  },
  {
   "cell_type": "markdown",
   "metadata": {},
   "source": [
    "What does the above code actually *do*?\n",
    "\n",
    "It uses a *built-in function* called `print` that takes the `\"Hello world!\"` \n",
    "*string argument* and displays it! \n",
    "\n",
    "But what is a *string* and what is an *argument*? Read-on to find out :-)\n",
    "\n",
    "Note any sentence written after the `#` will\n",
    "not be included in the output. Such sentences are known as *comments*."
   ]
  },
  {
   "cell_type": "markdown",
   "metadata": {},
   "source": [
    "### Variables and Data Types\n",
    "**Variables:** Store data so that data can be accessed later in your program.\n",
    "\n",
    "**Data Types:** Information about the data that affects *what* you can do with it.\n",
    "\n",
    "When you define a variable, you place the *name* of the variable to the left\n",
    "of the assignment operator `=` and the *value* of the variable to the right\n",
    "of the assignment operator `=` as shown below:\n",
    "```\n",
    "my_name = \"Jared Frazier\"\n",
    "```\n",
    "\n",
    "The variable `my_name` becomes an *object* of the data type of the *value*. The\n",
    "major data types in Python are listed below:\n",
    "1. string\n",
    "2. integer\n",
    "3. float\n",
    "4. list\n",
    "5. dictionary"
   ]
  },
  {
   "cell_type": "code",
   "execution_count": null,
   "metadata": {},
   "outputs": [],
   "source": [
    "# Definition of variables that will store data of type `string`\n",
    "favorite_icecream = \"vanilla\"\n",
    "instructor_one = 'Jared Frazier'\n",
    "instructor_two = 'Marie McCord'\n",
    "\n",
    "# Definition of a variable that will store data of type `int` (integer)\n",
    "# Note: There is no decimal in this variable definition\n",
    "num_cats_owned = 1\n",
    "\n",
    "# Definition of a variable that will store data of type `float`\n",
    "# Note: There is a decimal in this variable!\n",
    "pi = 3.14159\n",
    "\n",
    "# Definition of a variable that will store data IN a `list`\n",
    "# Note: The items in the list are called `elements`\n",
    "# and the location of those `elements` in the list is called the `indices`\n",
    "groceries = [\"apple\", \"cabbage\", \"milk\"]\n",
    "\n",
    "# Definition of a variable that will store `key` and `value` pairs\n",
    "# in a `dict` (dictionary)...\n",
    "# the format of a dictionary is (almost) always \n",
    "# {\"key_one\": value_one, \"key_two\", value_two, ...}\n",
    "person_info = {\n",
    "    \"age\": 22, \n",
    "    \"name\": \"Jared\"}"
   ]
  },
  {
   "cell_type": "code",
   "execution_count": null,
   "metadata": {},
   "outputs": [],
   "source": [
    "# Tip: You can check the type of any variable by using the built-in `type`\n",
    "# function! Remember, `print` is a built-in function, too, but Python comes\n",
    "# with many built-in functions! You can actually combine functions, but we will\n",
    "# talk more about the mechanics of this in a bit :)\n",
    "# Note: In some programming languages, you have to specify the data type\n",
    "# of the variable, in Python you don't have to worry about this!\n",
    "print(type(favorite_icecream))\n",
    "print(type(num_cats_owned))\n",
    "print(type(pi))\n",
    "print(type(groceries))\n",
    "print(type(person_info))"
   ]
  },
  {
   "cell_type": "code",
   "execution_count": 30,
   "metadata": {},
   "outputs": [
    {
     "name": "stdout",
     "output_type": "stream",
     "text": [
      "Accessing the elements:\n",
      "apple\n",
      "cabbage\n",
      "milk\n",
      "\n",
      "The new list:\n",
      "cabbage\n",
      "milk\n",
      "eggs\n"
     ]
    }
   ],
   "source": [
    "# Lists begin with index 0 and end with the number of elements minus 1\n",
    "# The `groceries` list has 3 elements as shown below\n",
    "#               0         1        2\n",
    "groceries = [\"apple\", \"cabbage\", \"milk\"]\n",
    "\n",
    "# Access the elements by using brackets and the name of the list\n",
    "print(\"Accessing the elements:\")\n",
    "print(groceries[0])\n",
    "print(groceries[1])\n",
    "print(groceries[2])\n",
    "\n",
    "# Adding a new item to the list\n",
    "# The list is now [\"apples\", \"cabbage\", \"milk\", \"eggs\"]\n",
    "groceries.append(\"eggs\")\n",
    "\n",
    "# Deleting an item at a certain index.\n",
    "# Deletes the \"apple\" element at index 0 from the `groceries` list.\n",
    "# The list is now [\"cabbage\", \"milk\", \"eggs\"]\n",
    "del groceries[0]\n",
    "\n",
    "# `print()`` makes a newline... this is why the two lists printed\n",
    "# below have a line in-between them\n",
    "print()\n",
    "\n",
    "# Inspecting the list after appending \"eggs\" and deleting the element\n",
    "# at index 0\n",
    "print(\"The new list:\")\n",
    "print(groceries[0])\n",
    "print(groceries[1])\n",
    "print(groceries[2])"
   ]
  },
  {
   "cell_type": "code",
   "execution_count": 34,
   "metadata": {},
   "outputs": [
    {
     "name": "stdout",
     "output_type": "stream",
     "text": [
      "The keys in the dictionary:\n",
      "dict_keys(['age', 'name'])\n",
      "\n",
      "Printing some keys in the dictionary:\n",
      "22\n",
      "Jared\n",
      "\n",
      "The new dictionary:\n",
      "{'age': 22, 'name': 'Jared', 'eyes': 'green'}\n"
     ]
    }
   ],
   "source": [
    "# I redefine the `person_info`dictionary here\n",
    "person_info = {\n",
    "    \"age\": 22, \n",
    "    \"name\": \"Jared\"}\n",
    "\n",
    "# Access the elements of the dictionary by using the keys of the dictionary,\n",
    "# the name of the dictionary, and brackets.\n",
    "# Tip: If you don't know the keys, you can print them by using the `.keys()`\n",
    "# method of the `dict` object (aka the variable `person_info`)\n",
    "print(\"The keys in the dictionary:\")\n",
    "print(person_info.keys())\n",
    "\n",
    "# A blank line\n",
    "print()\n",
    "\n",
    "# Printing the *values* associated with the *keys*\n",
    "print(\"Printing some keys in the dictionary:\")\n",
    "print(person_info[\"age\"])\n",
    "print(person_info[\"name\"])\n",
    "\n",
    "# Add a new key and value to the dictionary\n",
    "person_info[\"eyes\"] = \"green\"\n",
    "\n",
    "# A blank line\n",
    "print()\n",
    "\n",
    "# Print out all the values of the dictionary\n",
    "print(\"The new dictionary:\")\n",
    "print(person_info)"
   ]
  },
  {
   "cell_type": "code",
   "execution_count": null,
   "metadata": {},
   "outputs": [],
   "source": [
    "# You Try: Changing the values of the variables, making the grocery\n",
    "# list longer or shorter, or changing/adding `key` `value` pairs to\n",
    "# the dictionary, accessing different parts of the list with groceries[]\n",
    "\n",
    "# Definition of variables that will store data of type `string`\n",
    "favorite_icecream = \"vanilla\"\n",
    "instructor_one = 'Jared Frazier'\n",
    "instructor_two = 'Marie McCord'\n",
    "\n",
    "# Definition of a variable that will store data of type `int` (integer)\n",
    "# Note: There is no decimal in this variable definition\n",
    "num_cats_owned = 1\n",
    "\n",
    "# Definition of a variable that will store data of type `float`\n",
    "# Note: There is a decimal in this variable!\n",
    "pi = 3.14159\n",
    "\n",
    "# Definition of a variable that will store data IN a `list`\n",
    "# Note: The items in the list are called `elements`\n",
    "# and the location of those `elements` in the list is called the `indices`\n",
    "groceries = [\"apple\", \"cabbage\", \"milk\"]\n",
    "\n",
    "# Definition of a variable that will store `key` and `value` pairs\n",
    "# in a `dict` (dictionary)...\n",
    "# the format of a dictionary is (almost) always \n",
    "# {\"key_one\": value_one, \"key_two\", value_two, ...}\n",
    "person_info = {\n",
    "    \"age\": 22, \n",
    "    \"name\": \"Jared\"}"
   ]
  },
  {
   "cell_type": "markdown",
   "metadata": {},
   "source": [
    "### User Input"
   ]
  },
  {
   "cell_type": "code",
   "execution_count": null,
   "metadata": {},
   "outputs": [],
   "source": [
    "# Strings and getting user input\n",
    "# Note: The return value of \n",
    "favorite_color = input(\"What's your favorite color? \")\n",
    "print(favorite_color)"
   ]
  },
  {
   "cell_type": "markdown",
   "metadata": {},
   "source": [
    "## Learning Resources\n",
    "* [Visual Studio Code and Python](https://code.visualstudio.com/docs/languages/python)\n",
    "* [Python with Google Colaboratory (Use Chrome, Firefox, or any other web browser)](https://colab.research.google.com/?utm_source=scs-index)\n",
    "* [Official Python Tutorial](https://docs.python.org/3/tutorial/index.html)\n",
    "* [Official Python Documentation Table of Contents](https://docs.python.org/3/contents.html)"
   ]
  },
  {
   "cell_type": "markdown",
   "metadata": {},
   "source": [
    "# Miscellaneous Citations\n",
    "* [Netflix and Python: Open Connect](https://netflixtechblog.com/python-at-netflix-bba45dae649e)\n",
    "* [Google and Python: YouTube Recommendations](https://static.googleusercontent.com/media/research.google.com/en//pubs/archive/45530.pdf)\n",
    "* [NASA and Python: Astrobee](https://github.com/nasa/astrobee)"
   ]
  },
  {
   "cell_type": "markdown",
   "metadata": {},
   "source": []
  }
 ],
 "metadata": {
  "interpreter": {
   "hash": "d34b5cd599a8dc40c04bb69cc0b7a38bbc91ccde431e5d8f8c3f421f7e4168f6"
  },
  "kernelspec": {
   "display_name": "Python 3.7.4 ('base')",
   "language": "python",
   "name": "python3"
  },
  "language_info": {
   "codemirror_mode": {
    "name": "ipython",
    "version": 3
   },
   "file_extension": ".py",
   "mimetype": "text/x-python",
   "name": "python",
   "nbconvert_exporter": "python",
   "pygments_lexer": "ipython3",
   "version": "3.7.4"
  },
  "orig_nbformat": 4
 },
 "nbformat": 4,
 "nbformat_minor": 2
}
