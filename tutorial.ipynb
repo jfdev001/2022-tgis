{
 "cells": [
  {
   "cell_type": "markdown",
   "metadata": {},
   "source": [
    "# Python Doesn't Byte: by Jared Frazier and Marie McCord\n",
    "## What is Python?\n",
    "Python is a high-level, general purpose programming language. This is just\n",
    "fancy talk for \"Python is a *tool* that you can use to tell a computer how\n",
    "to perform a task. \"High level\" just means that you don't have to learn the \n",
    "language of the machine, which is creatively called *machine language*, in \n",
    "order to tell a computer how to do cool things.\n",
    "\n",
    "## Why Learn Python?\n",
    "You can make cool stuff like websites, games, chatbots, and more with it. \n",
    "In fact organizations like Netflix, Google, \n",
    "NASA, use Python extensively. Here are some examples.\n",
    "\n",
    "1. Netflix: `Open Connect` -- Uses Python to deliver content to \n",
    "its viewers. When you watch a movie on Netflix, now you know the way that movie\n",
    "is delivered to you with Python.\n",
    "2. Google: `YouTube Recommendations ` -- Uses Python to make video\n",
    "recommendations to different users. So if you watch a video on the mysteries\n",
    "of black holes in outer space, and then you get recommended another video\n",
    "that is similar to that, know that it is Python at work!\n",
    "3. NASA: `Astrobee: free-flying robots` -- Uses Python to control a robot\n",
    "on the international Space Station (ISS). While you may not be on the ISS right \n",
    "now, maybe one day you will be and you can interact with these useful, cube-shaped\n",
    "robots!\n",
    "\n",
    "What you'll find is that these examples use Python in addition to other languages\n",
    "like C, C++, JavaScript, etc., but you have to start somewhere before you can\n",
    "learn more languages, so Python is where we will begin!\n",
    "\n",
    "## Python Syntax\n",
    "**Syntax:** The rules that define the combination of symbols that are considered\n",
    "valid statements or expressions in that language. English, Spanish, Cantonese... \n",
    "these are all natural languages, but you know for example in English that the \n",
    "sentence `He threw the ball.` is valid but `The ball threw he.` is not valid.\n",
    "Similarly, programming languages have valid sentences, which are called *statements*,\n",
    "and each programming language has different syntax. Fortunately, once you learn\n",
    "one programming language, the syntax of the other languages is not as varied as\n",
    "in natural languages. You could learn Python over the next few months, then if you\n",
    "were to look at another language, it would not be as difficult to learn.\n",
    "\n",
    "## IMPORTANT COMMAND\n",
    "To *run* a cell, use the shortcut `shift + enter`. This will run a mini-program\n",
    "to show what your code does!\n",
    "\n",
    "### The First Code You'll Write"
   ]
  },
  {
   "cell_type": "code",
   "execution_count": 15,
   "metadata": {},
   "outputs": [
    {
     "name": "stdout",
     "output_type": "stream",
     "text": [
      "Hello world!\n"
     ]
    }
   ],
   "source": [
    "# The simplest program\n",
    "print(\"Hello world!\")"
   ]
  },
  {
   "cell_type": "code",
   "execution_count": 16,
   "metadata": {},
   "outputs": [
    {
     "name": "stdout",
     "output_type": "stream",
     "text": [
      "Hello world!\n"
     ]
    }
   ],
   "source": [
    "# What's different about this code and the previous code?\n",
    "# Hint: Look very closely at the beginning of the first word and end of \n",
    "# the last word!\n",
    "print('Hello world!')"
   ]
  },
  {
   "cell_type": "code",
   "execution_count": 17,
   "metadata": {},
   "outputs": [
    {
     "name": "stdout",
     "output_type": "stream",
     "text": [
      "Hello world!\n"
     ]
    }
   ],
   "source": [
    "# You try: Changing what the above code prints!\n",
    "# Hint: Be careful not to delete the quotation marks \"\"\n",
    "print(\"Hello world!\")"
   ]
  },
  {
   "cell_type": "markdown",
   "metadata": {},
   "source": [
    "What does the above code actually *do*?\n",
    "\n",
    "It uses a *built-in function* called `print` that takes the `\"Hello world!\"` \n",
    "*string argument* and displays it! \n",
    "\n",
    "But what is a *string* and what is an *argument*? Read-on to find out :-)\n",
    "\n",
    "Note any sentence written after the `#` will\n",
    "not be included in the output. Such sentences are known as *comments*."
   ]
  },
  {
   "cell_type": "markdown",
   "metadata": {},
   "source": [
    "### Variables and Data Types\n",
    "**Variables:** Store data so that data can be accessed later in your program.\n",
    "\n",
    "**Data Types:** Information about the data that affects *what* you can do with it.\n",
    "\n",
    "When you define a variable, you place the *name* of the variable to the left\n",
    "of the assignment operator `=` and the *value* of the variable to the right\n",
    "of the assignment operator `=` as shown below:\n",
    "```\n",
    "my_name = \"Jared Frazier\"\n",
    "```\n",
    "\n",
    "The variable `my_name` becomes an *object* of the data type of the *value*. The\n",
    "major data types in Python are listed below:\n",
    "1. string\n",
    "2. integer\n",
    "3. float\n",
    "4. bool\n",
    "5. list\n",
    "6. dictionary"
   ]
  },
  {
   "cell_type": "code",
   "execution_count": 18,
   "metadata": {},
   "outputs": [],
   "source": [
    "# Definition of a variable that will store data of type `int` (integer)\n",
    "# Note: There is no decimal in this variable definition\n",
    "num_cats_owned = 1\n",
    "\n",
    "# Definition of a variable that will store data of type `float`\n",
    "# Note: There is a decimal in this variable!\n",
    "pi = 3.14159\n",
    "\n",
    "# Definition of variables that will store data of type `bool`\n",
    "# Note: The only options for this data type are `True` or `False`\n",
    "dogs_are_mammals = True\n",
    "sky_is_green = False\n",
    "\n",
    "# Definition of a variable that will store data IN a `list`\n",
    "# Note: The items in the list are called `elements`\n",
    "# and the location of those `elements` in the list is called the `indices`\n",
    "groceries = [\"apple\", \"cabbage\", \"milk\"]\n",
    "\n",
    "# Definition of a variable that will store `key` and `value` pairs\n",
    "# in a `dict` (dictionary)...\n",
    "# the format of a dictionary is (almost) always \n",
    "# {\"key_one\": value_one, \"key_two\", value_two, ...}\n",
    "person_info = {\n",
    "    \"age\": 22, \n",
    "    \"name\": \"Jared\"}"
   ]
  },
  {
   "cell_type": "markdown",
   "metadata": {},
   "source": [
    "#### Strings"
   ]
  },
  {
   "cell_type": "code",
   "execution_count": 19,
   "metadata": {},
   "outputs": [],
   "source": [
    "# Definition of variables that will store data of type `string`\n",
    "favorite_icecream = \"vanilla\"\n",
    "instructor_one = 'Jared Frazier'\n",
    "instructor_two = 'Marie McCord'"
   ]
  },
  {
   "cell_type": "code",
   "execution_count": 20,
   "metadata": {},
   "outputs": [
    {
     "name": "stdout",
     "output_type": "stream",
     "text": [
      "Instructor one's name but all lowercase:\n",
      "jared frazier\n"
     ]
    }
   ],
   "source": [
    "# Strings are immutable in python, which means that if you want to make a \n",
    "# change to an existing string, you need to have the assignment operator `=`\n",
    "# and a new variable defined in order to save the result of your change to the\n",
    "# string.\n",
    "\n",
    "# Here I demonstrate one of the built-in `methods` associated with \n",
    "# strings. That method is `lower()`, and it converts all the characters\n",
    "# of the string to lower case. Methods are always of the form \n",
    "# `object.method_name()`\n",
    "# Recall that the assignment operator `=` makes a given variable\n",
    "# an `object` with a particular value.\n",
    "lowercase_instructor_one = instructor_one.lower()\n",
    "\n",
    "# Inspecting new, lowercase variable\n",
    "print(\"Instructor one's name but all lowercase:\")\n",
    "print(lowercase_instructor_one)"
   ]
  },
  {
   "cell_type": "code",
   "execution_count": 21,
   "metadata": {},
   "outputs": [
    {
     "name": "stdout",
     "output_type": "stream",
     "text": [
      "Instructor one's name but all uppercase:\n",
      "JARED FRAZIER\n"
     ]
    }
   ],
   "source": [
    "# Another useful string method converts all letters of the string\n",
    "# to upper case\n",
    "uppercase_instructor_one = instructor_one.upper()\n",
    "\n",
    "# Inspecting the new, uppercase variable\n",
    "print(\"Instructor one's name but all uppercase:\")\n",
    "print(uppercase_instructor_one)"
   ]
  },
  {
   "cell_type": "code",
   "execution_count": 22,
   "metadata": {},
   "outputs": [
    {
     "name": "stdout",
     "output_type": "stream",
     "text": [
      "True\n",
      "False\n"
     ]
    }
   ],
   "source": [
    "# You can compare two strings to see if they have the exact same content\n",
    "# by using the equals operator `==` \n",
    "# The value returned by such a comparison is always True or False\n",
    "print(\"DOG\" == \"DOG\")\n",
    "print(\"dog\" == \"DOG\")"
   ]
  },
  {
   "cell_type": "markdown",
   "metadata": {},
   "source": [
    "#### Integers and Floats"
   ]
  },
  {
   "cell_type": "code",
   "execution_count": 23,
   "metadata": {},
   "outputs": [
    {
     "name": "stdout",
     "output_type": "stream",
     "text": [
      "5\n"
     ]
    }
   ],
   "source": [
    "# These are numeric values that can be pretty easily understood:\n",
    "# integers are numbers that do not have a decimal value in them while\n",
    "# floats do have a decimal value.\n",
    "\n",
    "# You can perform the normal arithmetic operations with both integers\n",
    "# floats\n",
    "x = 2\n",
    "y = 3\n",
    "z = x + y # The result of x + y is *assigned* to z\n",
    "\n",
    "print(z)"
   ]
  },
  {
   "cell_type": "code",
   "execution_count": 24,
   "metadata": {},
   "outputs": [
    {
     "name": "stdout",
     "output_type": "stream",
     "text": [
      "7.5\n"
     ]
    }
   ],
   "source": [
    "# Similarly, with floats you can perform the usual\n",
    "# set of mathematical operations (multlipication, addition, subtraction, division)\n",
    "print(2.5 * 3)"
   ]
  },
  {
   "cell_type": "markdown",
   "metadata": {},
   "source": [
    "#### Bools\n",
    "Bools can only be `True` or `False`. The use of bools will be detailed\n",
    "under later sections of this tutorial."
   ]
  },
  {
   "cell_type": "markdown",
   "metadata": {},
   "source": [
    "#### Lists"
   ]
  },
  {
   "cell_type": "code",
   "execution_count": 25,
   "metadata": {},
   "outputs": [
    {
     "name": "stdout",
     "output_type": "stream",
     "text": [
      "Accessing the elements:\n",
      "apple\n",
      "cabbage\n",
      "milk\n"
     ]
    }
   ],
   "source": [
    "# Lists begin with index 0 and end with the number of elements minus 1\n",
    "# The `groceries` list has 3 elements as shown below\n",
    "# index:        0         1        2\n",
    "groceries = [\"apple\", \"cabbage\", \"milk\"]\n",
    "\n",
    "# Access the elements by using brackets and the name of the list\n",
    "print(\"Accessing the elements:\")\n",
    "print(groceries[0])\n",
    "print(groceries[1])\n",
    "print(groceries[2])"
   ]
  },
  {
   "cell_type": "code",
   "execution_count": 26,
   "metadata": {},
   "outputs": [
    {
     "name": "stdout",
     "output_type": "stream",
     "text": [
      "3\n"
     ]
    }
   ],
   "source": [
    "# The number of elements in a list can be computed by using the \n",
    "# built-in `len` function.\n",
    "num_groceries = len(groceries)\n",
    "print(num_groceries)"
   ]
  },
  {
   "cell_type": "code",
   "execution_count": 44,
   "metadata": {},
   "outputs": [
    {
     "name": "stdout",
     "output_type": "stream",
     "text": [
      "milk\n"
     ]
    }
   ],
   "source": [
    "# Tip: Since lists in python are counted from 0 to the number of elements\n",
    "# minus 1, if you want to access the last element of list you can do\n",
    "# `groceries[len(groceries) - 1]`\n",
    "# This code says \"from the groceries list, give me the element located\n",
    "# at the index (3 - 1)... where '3' is the number of elements in the list\n",
    "# and '- 1' is used because we count from 0 to number of elements minus 1.\"\n",
    "num_elements_in_list = len(groceries)\n",
    "last_grocery = groceries[num_elements_in_list - 1]\n",
    "print(last_grocery)"
   ]
  },
  {
   "cell_type": "code",
   "execution_count": 27,
   "metadata": {},
   "outputs": [
    {
     "name": "stdout",
     "output_type": "stream",
     "text": [
      "After appending:\n",
      "['apple', 'cabbage', 'milk', 'eggs']\n"
     ]
    }
   ],
   "source": [
    "# index:        0         1        2\n",
    "groceries = [\"apple\", \"cabbage\", \"milk\"]\n",
    "\n",
    "# Adding a new item to the list\n",
    "# The list is now [\"apples\", \"cabbage\", \"milk\", \"eggs\"]\n",
    "groceries.append(\"eggs\")\n",
    "\n",
    "# Instead of typing groceries[0], groceries[1], etc.\n",
    "# you can just pass the `groceries` list as an argument to the \n",
    "# built-in `print` function if you want to inspect the list\n",
    "print(\"After appending:\")\n",
    "print(groceries)"
   ]
  },
  {
   "cell_type": "code",
   "execution_count": 28,
   "metadata": {},
   "outputs": [
    {
     "name": "stdout",
     "output_type": "stream",
     "text": [
      "After deletion:\n",
      "['cabbage', 'milk']\n"
     ]
    }
   ],
   "source": [
    "# index:        0         1        2\n",
    "groceries = [\"apple\", \"cabbage\", \"milk\"]\n",
    "\n",
    "# Deleting an item at a certain index.\n",
    "# Deletes the \"apple\" element at index 0 from the `groceries` list.\n",
    "# The list is now [\"cabbage\", \"milk\"]\n",
    "del groceries[0]\n",
    "\n",
    "# Deleting the element at index 0\n",
    "print(\"After deletion:\")\n",
    "print(groceries)"
   ]
  },
  {
   "cell_type": "code",
   "execution_count": 57,
   "metadata": {},
   "outputs": [
    {
     "name": "stdout",
     "output_type": "stream",
     "text": [
      "['Marie Curie', 'Sir Isaac Newton', 'Ada Lovelace']\n"
     ]
    }
   ],
   "source": [
    "# Tip: You can *initialize* an empty list and then append elements\n",
    "# to it later\n",
    "awesome_scientists = []\n",
    "\n",
    "# Add some names to the list\n",
    "awesome_scientists.append(\"Marie Curie\")\n",
    "awesome_scientists.append(\"Sir Isaac Newton\")\n",
    "awesome_scientists.append(\"Ada Lovelace\")\n",
    "\n",
    "# Inspect the dictionary\n",
    "print(awesome_scientists)"
   ]
  },
  {
   "cell_type": "markdown",
   "metadata": {},
   "source": [
    "#### Dictionaries"
   ]
  },
  {
   "cell_type": "code",
   "execution_count": 29,
   "metadata": {},
   "outputs": [
    {
     "name": "stdout",
     "output_type": "stream",
     "text": [
      "The keys in the dictionary:\n",
      "dict_keys(['age', 'name'])\n",
      "\n"
     ]
    }
   ],
   "source": [
    "# I redefine the `person_info`dictionary here\n",
    "person_info = {\n",
    "    \"age\": 22, \n",
    "    \"name\": \"Jared\"}\n",
    "\n",
    "# Access the elements of the dictionary by using the keys of the dictionary,\n",
    "# the name of the dictionary, and brackets.\n",
    "\n",
    "# Tip: If you don't know the keys, you can print them by using the `.keys()`\n",
    "# method of the `dict` object (aka the variable `person_info`)\n",
    "print(\"The keys in the dictionary:\")\n",
    "print(person_info.keys())\n",
    "\n",
    "# A blank line\n",
    "print()"
   ]
  },
  {
   "cell_type": "code",
   "execution_count": 30,
   "metadata": {},
   "outputs": [
    {
     "name": "stdout",
     "output_type": "stream",
     "text": [
      "Printing some values in the dictionary using their keys:\n",
      "22\n",
      "Jared\n",
      "\n",
      "The new dictionary:\n",
      "{'age': 22, 'name': 'Jared', 'eyes': 'green'}\n"
     ]
    }
   ],
   "source": [
    "# Printing the *values* associated with the *keys*\n",
    "print(\"Printing some values in the dictionary using their keys:\")\n",
    "print(person_info[\"age\"])\n",
    "print(person_info[\"name\"])\n",
    "\n",
    "# Add a new key and value to the dictionary\n",
    "person_info[\"eyes\"] = \"green\"\n",
    "\n",
    "# A blank line\n",
    "print()\n",
    "\n",
    "# Print out all the values of the dictionary\n",
    "print(\"The new dictionary:\")\n",
    "print(person_info)"
   ]
  },
  {
   "cell_type": "code",
   "execution_count": 56,
   "metadata": {},
   "outputs": [
    {
     "name": "stdout",
     "output_type": "stream",
     "text": [
      "{'George Washington': 1789, 'Abraham Lincoln': 1861}\n"
     ]
    }
   ],
   "source": [
    "# Tip: You can also initialize an empty dictionary and then \n",
    "# add `key` `value` pairs to it later\n",
    "presidents_of_the_us = {}\n",
    "\n",
    "# Add some information about presidents to the dictionary\n",
    "presidents_of_the_us[\"George Washington\"] = 1789\n",
    "presidents_of_the_us[\"Abraham Lincoln\"] = 1861\n",
    "\n",
    "# Inspect the dictionary\n",
    "print(presidents_of_the_us)"
   ]
  },
  {
   "cell_type": "markdown",
   "metadata": {},
   "source": [
    "#### Sanity Check: Types"
   ]
  },
  {
   "cell_type": "code",
   "execution_count": 31,
   "metadata": {},
   "outputs": [
    {
     "name": "stdout",
     "output_type": "stream",
     "text": [
      "<class 'str'>\n",
      "<class 'int'>\n",
      "<class 'float'>\n",
      "<class 'bool'>\n",
      "<class 'bool'>\n",
      "<class 'list'>\n",
      "<class 'dict'>\n"
     ]
    }
   ],
   "source": [
    "# Tip: You can check the type of any variable by using the built-in `type`\n",
    "# function! Remember, `print` is a built-in function, too, but Python comes\n",
    "# with many built-in functions!\n",
    "# Note: In some programming languages, you have to specify the data type\n",
    "# of the variable, in Python you don't have to worry about this!\n",
    "print(type(favorite_icecream))\n",
    "print(type(num_cats_owned))\n",
    "print(type(pi))\n",
    "print(type(dogs_are_mammals))\n",
    "print(type(sky_is_green))\n",
    "print(type(groceries))\n",
    "print(type(person_info))"
   ]
  },
  {
   "cell_type": "code",
   "execution_count": 32,
   "metadata": {},
   "outputs": [],
   "source": [
    "# You Try: Changing the values of the variables, making the grocery\n",
    "# list longer or shorter, or changing/adding `key` `value` pairs to\n",
    "# the dictionary, accessing different parts of the list with groceries[]\n",
    "\n",
    "# Definition of variables that will store data of type `string`\n",
    "favorite_icecream = \"vanilla\"\n",
    "instructor_one = 'Jared Frazier'\n",
    "instructor_two = 'Marie McCord'\n",
    "\n",
    "# Definition of a variable that will store data of type `int` (integer)\n",
    "# Note: There is no decimal in this variable definition\n",
    "num_cats_owned = 1\n",
    "\n",
    "# Definition of a variable that will store data of type `float`\n",
    "# Note: There is a decimal in this variable!\n",
    "pi = 3.14159\n",
    "\n",
    "# Definition of a variable that will store data IN a `list`\n",
    "# Note: The items in the list are called `elements`\n",
    "# and the location of those `elements` in the list is called the `indices`\n",
    "groceries = [\"apple\", \"cabbage\", \"milk\"]\n",
    "\n",
    "# Definition of a variable that will store `key` and `value` pairs\n",
    "# in a `dict` (dictionary)...\n",
    "# the format of a dictionary is (almost) always \n",
    "# {\"key_one\": value_one, \"key_two\", value_two, ...}\n",
    "person_info = {\n",
    "    \"age\": 22, \n",
    "    \"name\": \"Jared\"}"
   ]
  },
  {
   "cell_type": "markdown",
   "metadata": {},
   "source": [
    "#### Operators\n",
    "There are many operators in Python, but fortunately while the word \"operator\"\n",
    "seems a bit scary, you are already quite familiar with many of them in Python.\n",
    "Python has the normal operators that you use in your math classes. The math\n",
    "operators are called the *arithmetic* operators, and they are listed below.\n",
    "\n",
    "```\n",
    "+\n",
    "-\n",
    "/\n",
    "//\n",
    "*\n",
    "```\n",
    "\n",
    "Two of these might look a little strange: the multiplication operator \n",
    "`*` and the integer division operator `//`. They behave as shown in the next\n",
    "cell."
   ]
  },
  {
   "cell_type": "code",
   "execution_count": 33,
   "metadata": {},
   "outputs": [
    {
     "name": "stdout",
     "output_type": "stream",
     "text": [
      "4\n",
      "\n",
      "2\n"
     ]
    }
   ],
   "source": [
    "# `x` is assigned 4\n",
    "x = 2 * 2\n",
    "print(x)\n",
    "\n",
    "# A blank line\n",
    "print()\n",
    "\n",
    "# `y` is actually assigned 2...\n",
    "# this is because the result of 5/2 is actually 2.5, but `//`\n",
    "# means that the decimal is ignored and only the integer `2` remains\n",
    "y = 5 // 2\n",
    "print(y)"
   ]
  },
  {
   "cell_type": "markdown",
   "metadata": {},
   "source": [
    "\n",
    "There are also the *relational* operators, some of which you have also seen before! \n",
    "Check them out below.\n",
    "\n",
    "```\n",
    "<\n",
    ">\n",
    "<=\n",
    ">=\n",
    "==\n",
    "!=\n",
    "```\n",
    "\n",
    "For these operators, a few of them might look a little strange, but the first\n",
    "two you should already know! The first two are just the less-than `<` and greater-than `>` \n",
    "operators. The next two are the less-than-or-equal-to `<=` and \n",
    "greater-than-or-equal-to `>=`. The final two are the equal `==` and not-equal \n",
    "`!=` operators. Let's see these operators in action below.\n",
    "\n",
    "**When using the relational operators, the value returned by \n",
    "such a comparison is always of the bool data type.** This is really important\n",
    "because you can tell your program to do certain things only when certain conditions\n",
    "are met. "
   ]
  },
  {
   "cell_type": "code",
   "execution_count": 34,
   "metadata": {},
   "outputs": [
    {
     "name": "stdout",
     "output_type": "stream",
     "text": [
      "True\n",
      "False\n",
      "True\n",
      "False\n",
      "False\n",
      "True\n"
     ]
    }
   ],
   "source": [
    "# Obviously 2 is less than 5\n",
    "print(2 < 5)\n",
    "\n",
    "# What about 2 greater than 5?\n",
    "print(2 > 5)\n",
    "\n",
    "# What about less than or equal to?\n",
    "print(2 <= 5)\n",
    "\n",
    "# Greater than or equal to?\n",
    "print(2 >= 5)\n",
    "\n",
    "# Exactly equal to?\n",
    "print(2 == 5)\n",
    "\n",
    "# 2 not equal to 5?\n",
    "print(2 != 5)"
   ]
  },
  {
   "cell_type": "markdown",
   "metadata": {},
   "source": [
    "Finally, there are the *logical* operators that are listed below:\n",
    "\n",
    "```\n",
    "and\n",
    "or\n",
    "not\n",
    "```\n",
    "\n",
    "Logical operators require bool values and returns a single bool value.\n",
    "Below is a table representing the return value of the `and` operator\n",
    "for different bool values of `x` and `y`.\n",
    "\n",
    "```\n",
    "x        y         x and y\n",
    "True     True      True\n",
    "True     False     False\n",
    "False    True      False\n",
    "False    False     False\n",
    "```\n",
    "\n",
    "Another table is shown for the `or` operator.\n",
    "\n",
    "```\n",
    "x        y         x or y\n",
    "True     True      True\n",
    "True     False     True\n",
    "False    True      True\n",
    "False    False     False\n",
    "```\n",
    "\n",
    "Finally, the `not` operator just inverts whatever the current bool value is.\n",
    "If `x` is `True`, then the result of `not x` is `False`."
   ]
  },
  {
   "cell_type": "code",
   "execution_count": 35,
   "metadata": {},
   "outputs": [
    {
     "name": "stdout",
     "output_type": "stream",
     "text": [
      "False\n",
      "True\n",
      "False\n",
      "True\n"
     ]
    }
   ],
   "source": [
    "# Examples of logical operators\n",
    "x = True\n",
    "y = False\n",
    "\n",
    "print(x and y)\n",
    "print(x or y)\n",
    "print(not x)\n",
    "print(not y)"
   ]
  },
  {
   "cell_type": "markdown",
   "metadata": {},
   "source": [
    "#### Loops\n",
    "There are two types of loops in python: `for` and `while` loops. Loops are used\n",
    "to repeat statements for a certain number of times or until a certain condition \n",
    "is met. The `for` loop is the *count* based loop, meaning it terminates (ends)\n",
    "after a certain number of times.\n",
    "\n",
    "The general structure of `for` loops is this\n",
    "\n",
    "```\n",
    "for loop_variable in range(num_times_to_repeat):\n",
    "  # body of the loop\n",
    "```\n",
    "\n",
    "The loop variable increments (increases by one) \n",
    "after the body of the loop is done executing. \n",
    "The number of times to repeat the execution of the body of the loop is determined\n",
    "by the value in the parenthesis of the `range` function. Here's what the `for`\n",
    "loop looks like in action."
   ]
  },
  {
   "cell_type": "code",
   "execution_count": 36,
   "metadata": {},
   "outputs": [
    {
     "name": "stdout",
     "output_type": "stream",
     "text": [
      "Hello world!\n",
      "Hello world!\n",
      "Hello world!\n",
      "Hello world!\n",
      "Hello world!\n"
     ]
    }
   ],
   "source": [
    "# Let's say I want to repeatedly print \"Hello world!\"\n",
    "# How many times do you think this loop print it?\n",
    "for i in range(5):\n",
    "    print(\"Hello world!\")"
   ]
  },
  {
   "cell_type": "code",
   "execution_count": 37,
   "metadata": {},
   "outputs": [
    {
     "name": "stdout",
     "output_type": "stream",
     "text": [
      "Hello world!\n",
      "Hello world!\n",
      "Hello world!\n"
     ]
    }
   ],
   "source": [
    "# What if I want to print \"Hello world!\" only 3 times?\n",
    "# Do you see what I changed?\n",
    "for i in range(3):\n",
    "    print(\"Hello world!\")"
   ]
  },
  {
   "cell_type": "code",
   "execution_count": 38,
   "metadata": {},
   "outputs": [
    {
     "name": "stdout",
     "output_type": "stream",
     "text": [
      "0\n",
      "1\n",
      "2\n"
     ]
    }
   ],
   "source": [
    "# Tip: You can use the `loop_variable` in the body of the loop if you want.\n",
    "# You can also name the loop variable whatever you like, and in fact, \n",
    "# since the loop variable is a variable, naming it something meaningful\n",
    "# is good! Using the letter `i` or `j` as the loop variable is a common practice\n",
    "# but using a longer variable name is fine too.\n",
    "\n",
    "# Remember, the value of `i` changes after the body executes. So for the first\n",
    "# iteration of the loop, `i` is 0, the next it is 1, and on the final iteration\n",
    "# it is 2.\n",
    "\n",
    "# [0, 1, 2] is really just a list with 3 elements, which is what the `range`\n",
    "# function creates: a list with 3 total elements!\n",
    "for i in range(3):\n",
    "    print(i)"
   ]
  },
  {
   "cell_type": "markdown",
   "metadata": {},
   "source": [
    "The `while` loop is a *condition* based loop and the general structure is this.\n",
    "\n",
    "```\n",
    "# initialize the condition\n",
    "condition = True\n",
    "\n",
    "# Loop expression\n",
    "while(condition):\n",
    "  # body of the loop\n",
    "  # ....\n",
    "  # update the condition\n",
    "```\n",
    "\n",
    "Do not forget to update the condition! This is where you will logical expressions,\n",
    "which are just expressions that return True or False! As a reminder, recall \n",
    "that `2 < 5` returns True, though it would be more useful to use a variable\n",
    "rather than the two *literal* values like `2` and `5` in your condition.\n",
    "See an example of the while loop below."
   ]
  },
  {
   "cell_type": "code",
   "execution_count": 39,
   "metadata": {},
   "outputs": [
    {
     "name": "stdout",
     "output_type": "stream",
     "text": [
      "Hello world!\n",
      "Hello world!\n",
      "Hello world!\n",
      "Hello world!\n",
      "Hello world!\n"
     ]
    }
   ],
   "source": [
    "# A while loop that prints hello world 5 times....\n",
    "\n",
    "# Initial condition\n",
    "i = 0\n",
    "\n",
    "# While condition\n",
    "while (i < 5):\n",
    "\n",
    "    # Body of loop\n",
    "    print(\"Hello world!\")\n",
    "\n",
    "    # Update condition\n",
    "    # This statement means \"assign to i the current value of i plus 1\"\n",
    "    i = i + 1"
   ]
  },
  {
   "cell_type": "code",
   "execution_count": 40,
   "metadata": {},
   "outputs": [
    {
     "name": "stdout",
     "output_type": "stream",
     "text": [
      "Hello world!\n",
      "Hello world!\n",
      "Hello world!\n",
      "Hello world!\n",
      "Hello world!\n"
     ]
    }
   ],
   "source": [
    "# You try: Change the something about the loop below!\n",
    "\n",
    "# Initial condition\n",
    "i = 0\n",
    "\n",
    "# While condition\n",
    "while (i < 5):\n",
    "\n",
    "    # Body of loop\n",
    "    print(\"Hello world!\")\n",
    "\n",
    "    # Update condition\n",
    "    # This statement means \"assign to i the current value of i plus 1\"\n",
    "    i = i + 1"
   ]
  },
  {
   "cell_type": "markdown",
   "metadata": {},
   "source": [
    "#### Logical Expressions: if, else, elif\n",
    "The `while` loop in the example is basically no different than `for` loop.\n",
    "So why even bother with a `while` loop? Well, because the `while` loop is a \n",
    "*condition* based loop, we must consider how we can code more complicated conditions!\n",
    "\n",
    "Consider the following set of sentences:\n",
    "\n",
    "<i>\n",
    "If it is rainy today, then I will bring an umbrella.<br>\n",
    "Otherwise, I will not bring an umbrella.\n",
    "\n",
    "If it is snowing today, then I will wear a thick jacket.<br>\n",
    "Otherwise, if it is sunny today, then I will wear a T-shirt.<br>\n",
    "Otherwise, I will just wear a long sleeve shirt.\n",
    "</i>\n",
    "\n",
    "You can simulate the logic of the above sentences with `if`, `else`, and `elif`\n",
    "Python keywords. Let's see what this looks like and then how it might be applied\n",
    "to loops."
   ]
  },
  {
   "cell_type": "code",
   "execution_count": 41,
   "metadata": {},
   "outputs": [
    {
     "name": "stdout",
     "output_type": "stream",
     "text": [
      "Bringing an umbrella.\n"
     ]
    }
   ],
   "source": [
    "# Logical expression\n",
    "rainy = True\n",
    "\n",
    "# Test for logical expression in the parenthesis of `if (expression)`\n",
    "# Notice how the body of the `if` statement only executes when the\n",
    "# rainy condition is True... \n",
    "if (rainy):\n",
    "\n",
    "    # Body of the if statement\n",
    "    print(\"Bringing an umbrella.\")\n",
    "\n",
    "else:\n",
    "\n",
    "    # Body of the else statement\n",
    "    print(\"Not bringing an umbrella.\")"
   ]
  },
  {
   "cell_type": "code",
   "execution_count": 42,
   "metadata": {},
   "outputs": [
    {
     "name": "stdout",
     "output_type": "stream",
     "text": [
      "Not bringing an umbrella.\n"
     ]
    }
   ],
   "source": [
    "# Changed logical expression\n",
    "rainy = False\n",
    "\n",
    "# Test for logical expression in the parenthesis of `if (expression)`\n",
    "# Notice how the body of the `if` statement only executes when the\n",
    "# rainy condition is True... OTHERWISE the `else` statement body\n",
    "# is executed\n",
    "if (rainy):\n",
    "\n",
    "    # Body of the if statement\n",
    "    print(\"Bringing an umbrella.\")\n",
    "\n",
    "else:\n",
    "\n",
    "    # Body of the else statement\n",
    "    print(\"Not bringing an umbrella.\")"
   ]
  },
  {
   "cell_type": "markdown",
   "metadata": {},
   "source": [
    "#### Functions\n",
    "We have already used a few functions in this tutorial like `print` and `len`.\n",
    "Functions are useful for a few reasons:\n",
    "\n",
    "1. Breakdown the different parts of your program into smaller, \n",
    "logically separable chunks.\n",
    "2. Make the program text clearer.\n",
    "3. Make it possible to use the function in more than one place in the program.\n",
    "\n",
    "Functions have the following format\n",
    "\n",
    "```\n",
    "def name_of_function(parameter_one, parameter_two, ...):\n",
    "    # function body\n",
    "    # ....\n",
    "    return \n",
    "```\n",
    "\n",
    "Let's breakdown the parts of the function. We use the `def` to tell our program\n",
    "that we are about to *define* a function. Immediately following the `def` \n",
    "keyword is the name of the function. This name can then be used elsewhere.\n",
    "When you *use* the `print` function, you are *calling* the function. The \n",
    "comma separated list in the parentheses is called the *parameter list*. The\n",
    "indented statements that are below the function are called the function body, \n",
    "and this is where you put something that you would like the function to do.\n",
    "The final part of the function uses the `return` keyword. The `return` keyword\n",
    "is very important because it takes the result (also called *return value*) \n",
    "of the function body and gives it back (or *returns* it) to the \n",
    "statement that called the function\n",
    "in the first place. This is a lot of confusing talk and not much show, \n",
    "so let's see what this all looks like."
   ]
  },
  {
   "cell_type": "code",
   "execution_count": 54,
   "metadata": {},
   "outputs": [
    {
     "name": "stdout",
     "output_type": "stream",
     "text": [
      "7\n"
     ]
    }
   ],
   "source": [
    "# Here I define a function named \"add\".\n",
    "# It has two parameters: \"num_one\" and \"num_two\"\n",
    "def add(num_one, num_two):\n",
    "\n",
    "    # Function body that computes the sum of the two numbers\n",
    "    result = num_one + num_two\n",
    "\n",
    "    # Return the result of the addition to whatever called the function\n",
    "    return result\n",
    "\n",
    "# Now we call the function\n",
    "sum_of_two_and_five = add(2, 5)\n",
    "\n",
    "# And now we call the built-in function `print`\n",
    "# to inspect the result of my custom function call\n",
    "print(sum_of_two_and_five)"
   ]
  },
  {
   "cell_type": "markdown",
   "metadata": {},
   "source": [
    "#### Putting It All Together\n",
    "Now I will show a small program that uses major concepts from the tutorial \n",
    "in addition to one very useful built-in function called `input`.\n",
    "\n",
    "Briefly, the `input` function prompts the user to type something in. Whatever\n",
    "the user types in will be assigned to a variable that the user will name.\n",
    "\n",
    "```\n",
    "# Prompt the user to input their name\n",
    "name = input(\"Please enter your name: \")\n",
    "print(name)\n",
    "\n",
    "# The output of this will be whatever you type in\n",
    "# Note: You don't have to pass a string argument to the `input` function...\n",
    "# meaning you could just do \n",
    "# name = input()\n",
    "# however, the string you pass to the `input` function will be displayed\n",
    "# so that the user knows what the program wants.\n",
    "```\n",
    "\n",
    "Here is the program description:\n",
    "\n",
    "<i>\n",
    "Write a program that \n",
    "    <b>asks the user</b> to <b>add</b> items to a grocery \n",
    "    <b>list</b> until either the <b>list</b> has <b>five items</b> <b>or</b> the user\n",
    "    enters stop.\n",
    "</i>"
   ]
  },
  {
   "cell_type": "code",
   "execution_count": 60,
   "metadata": {},
   "outputs": [
    {
     "name": "stdout",
     "output_type": "stream",
     "text": [
      "[]\n"
     ]
    }
   ],
   "source": [
    "# Initialize an empty list for tracking the groceries\n",
    "groceries = []\n",
    "\n",
    "# Initialize the counter variable\n",
    "num_groceries = 0\n",
    "\n",
    "# Get the initial user input to the list\n",
    "grocery = input(\"Enter a grocery item or 'stop' to quit: \")\n",
    "\n",
    "# Make sure all characters of the input are lowercase\n",
    "grocery = grocery.lower() \n",
    "\n",
    "# Declare the loop with the appropriate conditions\n",
    "while(grocery != 'stop' and num_groceries < 5):\n",
    "\n",
    "    # Loop body\n",
    "    groceries.append(grocery)\n",
    "\n",
    "    # Update the loop variables\n",
    "    grocery = input(\"Enter a grocery item or 'stop' to quit: \")\n",
    "    grocery = grocery.lower() \n",
    "    num_groceries = num_groceries + 1\n",
    "\n",
    "# Inspect the groceries list\n",
    "print(groceries)"
   ]
  },
  {
   "cell_type": "markdown",
   "metadata": {},
   "source": [
    "## Free Learning Resources\n",
    "* [Visual Studio Code and Python](https://code.visualstudio.com/docs/languages/python)\n",
    "* [Python with Google Colaboratory (Use Chrome, Firefox, or any other web browser)](https://colab.research.google.com/?utm_source=scs-index)\n",
    "* [Official Python Tutorial](https://docs.python.org/3/tutorial/index.html)\n",
    "* [Official Python Documentation Table of Contents](https://docs.python.org/3/contents.html)\n",
    "* [W3 Schools Python Tutorial](https://www.w3schools.com/python/)"
   ]
  },
  {
   "cell_type": "markdown",
   "metadata": {},
   "source": [
    "# Miscellaneous Citations\n",
    "* [Netflix and Python: Open Connect](https://netflixtechblog.com/python-at-netflix-bba45dae649e)\n",
    "* [Google and Python: YouTube Recommendations](https://static.googleusercontent.com/media/research.google.com/en//pubs/archive/45530.pdf)\n",
    "* [NASA and Python: Astrobee](https://github.com/nasa/astrobee)\n",
    "* [Programming Principles and Practices Using C++, 2ed](https://www.amazon.com/Programming-Principles-Practice-Using-2nd/dp/0321992784)"
   ]
  },
  {
   "cell_type": "markdown",
   "metadata": {},
   "source": []
  }
 ],
 "metadata": {
  "interpreter": {
   "hash": "d34b5cd599a8dc40c04bb69cc0b7a38bbc91ccde431e5d8f8c3f421f7e4168f6"
  },
  "kernelspec": {
   "display_name": "Python 3.7.4 ('base')",
   "language": "python",
   "name": "python3"
  },
  "language_info": {
   "codemirror_mode": {
    "name": "ipython",
    "version": 3
   },
   "file_extension": ".py",
   "mimetype": "text/x-python",
   "name": "python",
   "nbconvert_exporter": "python",
   "pygments_lexer": "ipython3",
   "version": "3.7.4"
  },
  "orig_nbformat": 4
 },
 "nbformat": 4,
 "nbformat_minor": 2
}
